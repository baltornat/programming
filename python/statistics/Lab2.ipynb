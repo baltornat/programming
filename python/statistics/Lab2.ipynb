{
 "cells": [
  {
   "cell_type": "code",
   "execution_count": 2,
   "metadata": {},
   "outputs": [],
   "source": [
    "%matplotlib inline\n",
    "\n",
    "import pandas as pd\n",
    "import numpy as np\n",
    "import matplotlib.pyplot as plt\n",
    "from scipy.constants import golden\n",
    "\n",
    "plt.style.use('fivethirtyeight')\n",
    "plt.rc('figure', figsize=(5.0, 5.0/golden))\n",
    "\n",
    "dog = pd.read_csv('cani.csv', sep=';', index_col=0, decimal=',')"
   ]
  },
  {
   "cell_type": "code",
   "execution_count": null,
   "metadata": {},
   "outputs": [],
   "source": [
    "###PROBLEMA A"
   ]
  },
  {
   "cell_type": "code",
   "execution_count": 3,
   "metadata": {},
   "outputs": [
    {
     "data": {
      "text/plain": [
       "161"
      ]
     },
     "execution_count": 3,
     "metadata": {},
     "output_type": "execute_result"
    }
   ],
   "source": [
    "#ESERCIZIO 1: Quanti sono i cani seguiti dall'ambulatorio?\n",
    "len(dog)"
   ]
  },
  {
   "cell_type": "code",
   "execution_count": 4,
   "metadata": {},
   "outputs": [
    {
     "data": {
      "text/plain": [
       "58"
      ]
     },
     "execution_count": 4,
     "metadata": {},
     "output_type": "execute_result"
    }
   ],
   "source": [
    "#ESERCIZIO 2: Quanti cani soffrono di ipertensione?\n",
    "len(dog.loc[dog.IP == 'SI',:])\n",
    "#len(dog[dog['IP'] == 'SI'])"
   ]
  },
  {
   "cell_type": "code",
   "execution_count": 11,
   "metadata": {},
   "outputs": [
    {
     "data": {
      "text/plain": [
       "array([[<matplotlib.axes._subplots.AxesSubplot object at 0x7f4b2ed62e10>]],\n",
       "      dtype=object)"
      ]
     },
     "execution_count": 11,
     "metadata": {},
     "output_type": "execute_result"
    },
    {
     "data": {
      "image/png": "[encoded data removed]",
      "text/plain": [
       "<Figure size 360x222.492 with 1 Axes>"
      ]
     },
     "metadata": {},
     "output_type": "display_data"
    }
   ],
   "source": [
    "#ESERCIZIO 3.1: Tracciare un istogramma dell'età dei cani\n",
    "#fissando a un anno l'ampiezza delle classi e considerando gli intervalli chiusi a sinistra e aperti a destra\n",
    "pd.DataFrame.hist(dog, column=\"EtaAnni\",bins=int(dog[\"EtaAnni\"].max()))\n",
    "#RIPOSTA 3.1: L'istogramam presenta una assimetria a dx, ciò significa che vengono registrati\n",
    "#molti cani anziani nell'ambulatorio"
   ]
  },
  {
   "cell_type": "code",
   "execution_count": 13,
   "metadata": {},
   "outputs": [
    {
     "data": {
      "text/plain": [
       "count    161.000000\n",
       "mean      12.124658\n",
       "std        2.627775\n",
       "min        1.220000\n",
       "25%       10.890000\n",
       "50%       12.550000\n",
       "75%       14.060000\n",
       "max       16.840000\n",
       "Name: EtaAnni, dtype: float64"
      ]
     },
     "execution_count": 13,
     "metadata": {},
     "output_type": "execute_result"
    }
   ],
   "source": [
    "#ESERCIZIO 3.2: Compilare la tabella 1, in cui scegliere un opportuno indice\n",
    "#di centralità e un opportuno indice di dispersione.\n",
    "dog['EtaAnni'].describe()\n",
    "#RISPOSTA 3.2: Sceglierei la mediana e la deviazione standard(?)"
   ]
  },
  {
   "cell_type": "code",
   "execution_count": 32,
   "metadata": {},
   "outputs": [
    {
     "data": {
      "text/plain": [
       "32"
      ]
     },
     "execution_count": 32,
     "metadata": {},
     "output_type": "execute_result"
    }
   ],
   "source": [
    "#ESERCIZIO 3.3: Quanti sono i pazienti tra i 12 e i 13 anni?\n",
    "len(dog.loc[(dog.EtaAnni < 13) & (dog.EtaAnni >= 12)])"
   ]
  },
  {
   "cell_type": "code",
   "execution_count": 34,
   "metadata": {},
   "outputs": [
    {
     "data": {
      "text/plain": [
       "16.84"
      ]
     },
     "execution_count": 34,
     "metadata": {},
     "output_type": "execute_result"
    }
   ],
   "source": [
    "#ESERCIZIO 3.4: Quanti anni ha il cane più anziano?\n",
    "dog[\"EtaAnni\"].max()"
   ]
  },
  {
   "cell_type": "code",
   "execution_count": 35,
   "metadata": {},
   "outputs": [],
   "source": [
    "#ESERCIZIO 3.5: Qual'è la fascia di età più rappresentata?\n",
    "#RISPOSTA 3.5: Dal grafico risulta essere la fascia 12-13"
   ]
  },
  {
   "cell_type": "code",
   "execution_count": 38,
   "metadata": {},
   "outputs": [
    {
     "data": {
      "text/plain": [
       "118"
      ]
     },
     "execution_count": 38,
     "metadata": {},
     "output_type": "execute_result"
    }
   ],
   "source": [
    "#ESERCIZIO 4.1: Quanti cani sono deceduti?\n",
    "len(dog[dog['MORTE']==1])"
   ]
  },
  {
   "cell_type": "code",
   "execution_count": 51,
   "metadata": {},
   "outputs": [
    {
     "data": {
      "text/plain": [
       "46"
      ]
     },
     "execution_count": 51,
     "metadata": {},
     "output_type": "execute_result"
    }
   ],
   "source": [
    "#ESERCIZIO 4.2: L'operatore ha sempre specifica se la morte è stata cardiaca o no?\n",
    "number = len(dog)-len(dog[dog[\"MC\"]==0])-len(dog[dog[\"MC\"]==1])\n",
    "number"
   ]
  },
  {
   "cell_type": "code",
   "execution_count": 53,
   "metadata": {},
   "outputs": [
    {
     "data": {
      "text/plain": [
       "0"
      ]
     },
     "execution_count": 53,
     "metadata": {},
     "output_type": "execute_result"
    }
   ],
   "source": [
    "#ESERCIZIO 4.3: Controllare che non ci siano incongruenze tra cane vivo ma con morte cardiaca a 1\n",
    "len(dog.loc[(dog.MC == 1) & (dog.MORTE == 0)])"
   ]
  },
  {
   "cell_type": "code",
   "execution_count": 54,
   "metadata": {},
   "outputs": [
    {
     "data": {
      "text/plain": [
       "87"
      ]
     },
     "execution_count": 54,
     "metadata": {},
     "output_type": "execute_result"
    }
   ],
   "source": [
    "#ESERCIZIO 4.4: Quanti cani sono deceduti per cause cardiache?\n",
    "len(dog[dog[\"MC\"]==1])"
   ]
  },
  {
   "cell_type": "code",
   "execution_count": 61,
   "metadata": {},
   "outputs": [
    {
     "name": "stdout",
     "output_type": "stream",
     "text": [
      "73.72881355932203 %\n"
     ]
    }
   ],
   "source": [
    "#ESERCIZIO 4.5: Tra le morti avvenute, quale percentuale è stata per cause cardiache?\n",
    "print((len(dog[dog[\"MC\"]==1])/len(dog[dog[\"MORTE\"]==1]))*100,\"%\")"
   ]
  },
  {
   "cell_type": "code",
   "execution_count": 62,
   "metadata": {},
   "outputs": [],
   "source": [
    "#ESERCIZIO 5.1: GravitaIP è scalare, ordinale o nominale?\n",
    "#RISPOSTA 5.1: E' ordinale"
   ]
  },
  {
   "cell_type": "code",
   "execution_count": 63,
   "metadata": {},
   "outputs": [
    {
     "data": {
      "text/plain": [
       "array([0, 1, 2, 3])"
      ]
     },
     "execution_count": 63,
     "metadata": {},
     "output_type": "execute_result"
    }
   ],
   "source": [
    "#ESERCIZIO 5.2: GravitaIP quali valori può assumere?\n",
    "dog[\"GravitaIP\"].unique()"
   ]
  },
  {
   "cell_type": "code",
   "execution_count": 86,
   "metadata": {},
   "outputs": [
    {
     "name": "stdout",
     "output_type": "stream",
     "text": [
      "0    0.639752\n",
      "1    0.180124\n",
      "2    0.111801\n",
      "3    0.068323\n",
      "Name: GravitaIP, dtype: float64\n"
     ]
    }
   ],
   "source": [
    "#ESERCIZIO 5.3: Produrre la tabella delle frequenze relative di GravitaIP\n",
    "freq_rel = dog[\"GravitaIP\"].value_counts()/len(dog)\n",
    "print(freq_rel)"
   ]
  },
  {
   "cell_type": "code",
   "execution_count": 87,
   "metadata": {},
   "outputs": [
    {
     "name": "stdout",
     "output_type": "stream",
     "text": [
      "0    0.639752\n",
      "1    0.180124\n",
      "2    0.111801\n",
      "3    0.068323\n",
      "Name: GravitaIP, dtype: float64\n"
     ]
    },
    {
     "data": {
      "image/png": "[encoded data removed]",
      "text/plain": [
       "<Figure size 360x222.492 with 1 Axes>"
      ]
     },
     "metadata": {},
     "output_type": "display_data"
    }
   ],
   "source": [
    "#ESERCIZIO 5.4: Tracciare un grafico opportuno per descrivere GravitaIP\n",
    "print(freq_rel)\n",
    "plt = freq_rel.plot.pie()"
   ]
  },
  {
   "cell_type": "code",
   "execution_count": 88,
   "metadata": {},
   "outputs": [
    {
     "data": {
      "text/plain": [
       "NO    150\n",
       "SI     11\n",
       "Name: Antiaritmico, dtype: int64"
      ]
     },
     "execution_count": 88,
     "metadata": {},
     "output_type": "execute_result"
    }
   ],
   "source": [
    "#ESERCIZIO 6.1: Produrre la tabella delle frequenze assolute del carattere Antiaritmico\n",
    "dog[\"Antiaritmico\"].value_counts()"
   ]
  },
  {
   "cell_type": "code",
   "execution_count": 89,
   "metadata": {},
   "outputs": [],
   "source": [
    "#ESERCIZIO 6.2: Quanti sono i cani che assumono un farmaco antiaritmico?\n",
    "#RISPOSTA 6.2: 11"
   ]
  },
  {
   "cell_type": "code",
   "execution_count": 90,
   "metadata": {},
   "outputs": [],
   "source": [
    "#ESERCIZIO 6.3: Con quale valore numerico mettereste in corrispondenza il SI e con quale il NO?\n",
    "#RISPOSTA 6.3: 0 per NO, 1 per SI"
   ]
  },
  {
   "cell_type": "code",
   "execution_count": 95,
   "metadata": {},
   "outputs": [
    {
     "data": {
      "text/html": [
       "<div>\n",
       "<style scoped>\n",
       "    .dataframe tbody tr th:only-of-type {\n",
       "        vertical-align: middle;\n",
       "    }\n",
       "\n",
       "    .dataframe tbody tr th {\n",
       "        vertical-align: top;\n",
       "    }\n",
       "\n",
       "    .dataframe thead th {\n",
       "        text-align: right;\n",
       "    }\n",
       "</style>\n",
       "<table border=\"1\" class=\"dataframe\">\n",
       "  <thead>\n",
       "    <tr style=\"text-align: right;\">\n",
       "      <th>MC</th>\n",
       "      <th>0.0</th>\n",
       "      <th>1.0</th>\n",
       "    </tr>\n",
       "    <tr>\n",
       "      <th>Antiaritmico</th>\n",
       "      <th></th>\n",
       "      <th></th>\n",
       "    </tr>\n",
       "  </thead>\n",
       "  <tbody>\n",
       "    <tr>\n",
       "      <th>NO</th>\n",
       "      <td>28</td>\n",
       "      <td>78</td>\n",
       "    </tr>\n",
       "    <tr>\n",
       "      <th>SI</th>\n",
       "      <td>0</td>\n",
       "      <td>9</td>\n",
       "    </tr>\n",
       "  </tbody>\n",
       "</table>\n",
       "</div>"
      ],
      "text/plain": [
       "MC            0.0  1.0\n",
       "Antiaritmico          \n",
       "NO             28   78\n",
       "SI              0    9"
      ]
     },
     "execution_count": 95,
     "metadata": {},
     "output_type": "execute_result"
    }
   ],
   "source": [
    "#ESERCIZIO 6.4: Produrre la tabella delle frequenze assolute congiunte dei caratteri Antiaritmico e MC\n",
    "freq_cong = pd.crosstab(dog[\"Antiaritmico\"], dog[\"MC\"])\n",
    "freq_cong"
   ]
  },
  {
   "cell_type": "code",
   "execution_count": 100,
   "metadata": {},
   "outputs": [
    {
     "name": "stdout",
     "output_type": "stream",
     "text": [
      "10.344827586206897 %\n"
     ]
    }
   ],
   "source": [
    "#ESERCIZIO 6.5: Quale percentuale dei cani morti per cause cardiache assumeva un farmaco antiritmico?\n",
    "morti_cardiache = len(dog[dog[\"MC\"]==1])\n",
    "casi_morti_aritmiche = freq_cong.loc[\"SI\",1]\n",
    "print((casi_morti_aritmiche/morti_cardiache)*100,'%')"
   ]
  },
  {
   "cell_type": "code",
   "execution_count": 106,
   "metadata": {},
   "outputs": [
    {
     "name": "stdout",
     "output_type": "stream",
     "text": [
      "65.11627906976744 %\n"
     ]
    }
   ],
   "source": [
    "#ESERCIZIO 7.1: Quale percentuale di cani tuttora vivi è in cura presso l'ambulatorio da meno di un anno?\n",
    "tot_cani_vivi = len(dog[dog[\"MORTE\"]==0])\n",
    "cani_anno = len(dog.loc[(dog.MORTE == 0) & (dog.SURVIVALTIME <= 365)])\n",
    "print((cani_anno*100)/tot_cani_vivi,'%')"
   ]
  },
  {
   "cell_type": "code",
   "execution_count": 108,
   "metadata": {},
   "outputs": [
    {
     "name": "stdout",
     "output_type": "stream",
     "text": [
      "10.169491525423728 %\n"
     ]
    }
   ],
   "source": [
    "#ESERCIZIO 7.2: Quale percentuale di cani deceduti è sopravvissuta più di 3 anni?\n",
    "tot_cani_morti = len(dog[dog[\"MORTE\"]==1])\n",
    "cani_morti_3anni = len(dog.loc[(dog.MORTE == 1) & (dog.SURVIVALTIME >= 365*3)])\n",
    "print((cani_morti_3anni*100)/tot_cani_morti,\"%\")"
   ]
  },
  {
   "cell_type": "code",
   "execution_count": 112,
   "metadata": {},
   "outputs": [
    {
     "data": {
      "text/plain": [
       "<matplotlib.axes._subplots.AxesSubplot at 0x7f4b2b00aa10>"
      ]
     },
     "execution_count": 112,
     "metadata": {},
     "output_type": "execute_result"
    },
    {
     "data": {
      "image/png": "[encoded data removed]",
      "text/plain": [
       "<Figure size 360x222.492 with 1 Axes>"
      ]
     },
     "metadata": {},
     "output_type": "display_data"
    }
   ],
   "source": [
    "#ESERCIZIO 7.3: Tracciare un grafico opportuno per descrivere il tempo di sopravvivenza\n",
    "dog[\"SURVIVALTIME\"].plot.box()"
   ]
  },
  {
   "cell_type": "code",
   "execution_count": 121,
   "metadata": {},
   "outputs": [
    {
     "name": "stdout",
     "output_type": "stream",
     "text": [
      "25%: 113.0\n",
      "75%: 711.0\n"
     ]
    }
   ],
   "source": [
    "#ESERCIZIO 7.4: Completare la figura 2a con il valore numerico degli estremi della scatola\n",
    "print(\"25%:\",dog[\"SURVIVALTIME\"].quantile(0.25))\n",
    "print(\"75%:\",dog[\"SURVIVALTIME\"].quantile(0.75))"
   ]
  },
  {
   "cell_type": "code",
   "execution_count": 128,
   "metadata": {},
   "outputs": [
    {
     "data": {
      "text/plain": [
       "81"
      ]
     },
     "execution_count": 128,
     "metadata": {},
     "output_type": "execute_result"
    }
   ],
   "source": [
    "#ESERCIZIO 7.5: Quanti animali sono compresi all'interno della scatola (estremi inclusi)?\n",
    "box_dog = dog.loc[(dog.SURVIVALTIME >= 113) & (dog.SURVIVALTIME <= 711)]\n",
    "len(box_dog)"
   ]
  },
  {
   "cell_type": "code",
   "execution_count": 131,
   "metadata": {},
   "outputs": [
    {
     "data": {
      "text/plain": [
       "array([[<matplotlib.axes._subplots.AxesSubplot object at 0x7f4b2a68ae90>]],\n",
       "      dtype=object)"
      ]
     },
     "execution_count": 131,
     "metadata": {},
     "output_type": "execute_result"
    },
    {
     "data": {
      "image/png": "[encoded data removed]",
      "text/plain": [
       "<Figure size 360x222.492 with 1 Axes>"
      ]
     },
     "metadata": {},
     "output_type": "display_data"
    }
   ],
   "source": [
    "#ESERCIZIO 7.6: Tracciare una grafico opportuno diverso dal boxplot che descriva il tempo di sopr. dei cani\n",
    "pd.DataFrame.hist(box_dog, column=\"SURVIVALTIME\")"
   ]
  },
  {
   "cell_type": "code",
   "execution_count": 132,
   "metadata": {},
   "outputs": [],
   "source": [
    "#ESERCIZIO 7.7: Suggerite un modello teorico per la variabile aleatoria X=\"Tempo di sopravvivenza dei cani che frequentano l'ambulatorio\"\n"
   ]
  },
  {
   "cell_type": "code",
   "execution_count": 133,
   "metadata": {},
   "outputs": [
    {
     "name": "stdout",
     "output_type": "stream",
     "text": [
      "459.888198757764\n"
     ]
    }
   ],
   "source": [
    "#ESERCIZIO 7.8: Calcolate il tempo di sopravvivenza medio\n",
    "print(dog[\"SURVIVALTIME\"].mean())"
   ]
  },
  {
   "cell_type": "code",
   "execution_count": 134,
   "metadata": {},
   "outputs": [
    {
     "name": "stdout",
     "output_type": "stream",
     "text": [
      "467.1967063479367\n"
     ]
    }
   ],
   "source": [
    "#ESERCIZIO 7.9: Calcolate la deviazione standard del tempo di sopravvivenza\n",
    "print(dog[\"SURVIVALTIME\"].std())"
   ]
  },
  {
   "cell_type": "code",
   "execution_count": 136,
   "metadata": {},
   "outputs": [],
   "source": [
    "#ESERCIZIO 8.1: Controllare se Allodiast può essere considerato normale\n"
   ]
  },
  {
   "cell_type": "code",
   "execution_count": 142,
   "metadata": {},
   "outputs": [
    {
     "name": "stdout",
     "output_type": "stream",
     "text": [
      "96.27329192546584 %\n"
     ]
    }
   ],
   "source": [
    "#ESERCIZIO 8.2: Controllare che nell'intervallo di semi ampiezza 2 deviazioni standard e centrato sulla media risiede circa il 96%\n",
    "#delle osservazioni per tale carattere.\n",
    "tot_dogs = len(dog)\n",
    "std = dog[\"Allodiast\"].std()\n",
    "mean = dog[\"Allodiast\"].mean()\n",
    "number_dogs = len(dog.loc[(dog.Allodiast >= mean-(2*std)) & (dog.Allodiast <= mean+(2*std))])\n",
    "print((number_dogs/tot_dogs)*100,\"%\")\n",
    "#RISPOSTA 8.2: Si, vi risiede poco più del 96% delle osservazioni"
   ]
  },
  {
   "cell_type": "code",
   "execution_count": 144,
   "metadata": {},
   "outputs": [
    {
     "data": {
      "text/plain": [
       "<matplotlib.axes._subplots.AxesSubplot at 0x7f4b28913f50>"
      ]
     },
     "execution_count": 144,
     "metadata": {},
     "output_type": "execute_result"
    },
    {
     "data": {
      "image/png": "[encoded data removed]",
      "text/plain": [
       "<Figure size 360x222.492 with 1 Axes>"
      ]
     },
     "metadata": {},
     "output_type": "display_data"
    }
   ],
   "source": [
    "#ESERCIZIO 9: I caratteri EDVI e Allodiast sono indipendenti?\n",
    "dog.plot.scatter(\"EDVI\",\"Allodiast\")\n",
    "#RISPOSTA 9: Sono dipendenti per la maggior parte dei valori osservati"
   ]
  },
  {
   "cell_type": "code",
   "execution_count": 145,
   "metadata": {},
   "outputs": [],
   "source": [
    "###PROBLEMA B"
   ]
  },
  {
   "cell_type": "code",
   "execution_count": 149,
   "metadata": {},
   "outputs": [],
   "source": [
    "cani_morti = dog.loc[(dog.MORTE==1) & (dog.MC.notna()) & (dog.OndaEA.notna())]"
   ]
  },
  {
   "cell_type": "code",
   "execution_count": 150,
   "metadata": {},
   "outputs": [],
   "source": [
    "#ESERCIZIO 1: L'OndaEA è un carattere scalare oppure ordinale?\n",
    "#RISPOSTA 1: E' uno scalare"
   ]
  },
  {
   "cell_type": "code",
   "execution_count": 153,
   "metadata": {},
   "outputs": [
    {
     "data": {
      "text/plain": [
       "<matplotlib.axes._subplots.AxesSubplot at 0x7f4b28678550>"
      ]
     },
     "execution_count": 153,
     "metadata": {},
     "output_type": "execute_result"
    },
    {
     "data": {
      "image/png": "[encoded data removed]",
      "text/plain": [
       "<Figure size 360x222.492 with 1 Axes>"
      ]
     },
     "metadata": {},
     "output_type": "display_data"
    }
   ],
   "source": [
    "#ESERCIZIO 2: Produrre il boxplot relativo al carattere OndaEA\n",
    "cani_morti[\"OndaEA\"].plot.box()"
   ]
  },
  {
   "cell_type": "code",
   "execution_count": 154,
   "metadata": {},
   "outputs": [
    {
     "data": {
      "text/plain": [
       "4.19"
      ]
     },
     "execution_count": 154,
     "metadata": {},
     "output_type": "execute_result"
    }
   ],
   "source": [
    "#ESERCIZIO 3: Il grafico ottenuto dovrebbe mostrare la presenza di un outlier.\n",
    "#Determinare il valore di tale outlier\n",
    "cani_morti[\"OndaEA\"].max()"
   ]
  },
  {
   "cell_type": "code",
   "execution_count": 156,
   "metadata": {},
   "outputs": [
    {
     "data": {
      "text/html": [
       "<div>\n",
       "<style scoped>\n",
       "    .dataframe tbody tr th:only-of-type {\n",
       "        vertical-align: middle;\n",
       "    }\n",
       "\n",
       "    .dataframe tbody tr th {\n",
       "        vertical-align: top;\n",
       "    }\n",
       "\n",
       "    .dataframe thead th {\n",
       "        text-align: right;\n",
       "    }\n",
       "</style>\n",
       "<table border=\"1\" class=\"dataframe\">\n",
       "  <thead>\n",
       "    <tr style=\"text-align: right;\">\n",
       "      <th></th>\n",
       "      <th>IP</th>\n",
       "      <th>GravitaIP</th>\n",
       "      <th>EtaAnni</th>\n",
       "      <th>MORTE</th>\n",
       "      <th>MC</th>\n",
       "      <th>SURVIVALTIME</th>\n",
       "      <th>Terapia</th>\n",
       "      <th>Antiaritmico</th>\n",
       "      <th>PesoKg</th>\n",
       "      <th>VTricuspide</th>\n",
       "      <th>AsxAo</th>\n",
       "      <th>OndaE</th>\n",
       "      <th>OndaEA</th>\n",
       "      <th>FrazEspuls</th>\n",
       "      <th>FrazAccorc</th>\n",
       "      <th>EDVI</th>\n",
       "      <th>ESVI</th>\n",
       "      <th>Allodiast</th>\n",
       "      <th>Allosist</th>\n",
       "    </tr>\n",
       "    <tr>\n",
       "      <th>Cartella</th>\n",
       "      <th></th>\n",
       "      <th></th>\n",
       "      <th></th>\n",
       "      <th></th>\n",
       "      <th></th>\n",
       "      <th></th>\n",
       "      <th></th>\n",
       "      <th></th>\n",
       "      <th></th>\n",
       "      <th></th>\n",
       "      <th></th>\n",
       "      <th></th>\n",
       "      <th></th>\n",
       "      <th></th>\n",
       "      <th></th>\n",
       "      <th></th>\n",
       "      <th></th>\n",
       "      <th></th>\n",
       "      <th></th>\n",
       "    </tr>\n",
       "  </thead>\n",
       "  <tbody>\n",
       "    <tr>\n",
       "      <th>F0603</th>\n",
       "      <td>SI</td>\n",
       "      <td>2</td>\n",
       "      <td>13.4</td>\n",
       "      <td>1</td>\n",
       "      <td>1.0</td>\n",
       "      <td>248</td>\n",
       "      <td>3</td>\n",
       "      <td>SI</td>\n",
       "      <td>14.5</td>\n",
       "      <td>3.59</td>\n",
       "      <td>3.17</td>\n",
       "      <td>1.8</td>\n",
       "      <td>4.19</td>\n",
       "      <td>63.0</td>\n",
       "      <td>34.0</td>\n",
       "      <td>176.34</td>\n",
       "      <td>65.29</td>\n",
       "      <td>2.18</td>\n",
       "      <td>1.44</td>\n",
       "    </tr>\n",
       "  </tbody>\n",
       "</table>\n",
       "</div>"
      ],
      "text/plain": [
       "          IP  GravitaIP  EtaAnni  MORTE   MC  SURVIVALTIME  Terapia  \\\n",
       "Cartella                                                              \n",
       "F0603     SI          2     13.4      1  1.0           248        3   \n",
       "\n",
       "         Antiaritmico  PesoKg  VTricuspide  AsxAo  OndaE  OndaEA  FrazEspuls  \\\n",
       "Cartella                                                                       \n",
       "F0603              SI    14.5         3.59   3.17    1.8    4.19        63.0   \n",
       "\n",
       "          FrazAccorc    EDVI   ESVI  Allodiast  Allosist  \n",
       "Cartella                                                  \n",
       "F0603           34.0  176.34  65.29       2.18      1.44  "
      ]
     },
     "execution_count": 156,
     "metadata": {},
     "output_type": "execute_result"
    }
   ],
   "source": [
    "#ESERCIZIO 4: L'outlier è un cane morto per cause cardiache oppure no?\n",
    "cani_morti.loc[(cani_morti.OndaEA == 4.19) & (cani_morti.MC == 1)]\n",
    "#RISPOSTA 4: Mi ha restituito un risultato, quindi si, il cane è morto per cause cardiache"
   ]
  },
  {
   "cell_type": "code",
   "execution_count": 159,
   "metadata": {},
   "outputs": [
    {
     "data": {
      "text/plain": [
       "1.41"
      ]
     },
     "execution_count": 159,
     "metadata": {},
     "output_type": "execute_result"
    }
   ],
   "source": [
    "#ESERCIZIO 5: Si controlli che il terzo quartile \"s\" dell'OndaEA per i cani deceduti per cause non cardiache è 1.41\n",
    "non_card = cani_morti.loc[cani_morti.MC == 0]\n",
    "s = non_card[\"OndaEA\"].quantile(0.75)\n",
    "s\n",
    "#RISPOSTA 5: Si, è 1.41"
   ]
  },
  {
   "cell_type": "code",
   "execution_count": 160,
   "metadata": {},
   "outputs": [
    {
     "data": {
      "text/plain": [
       "1.0    66\n",
       "0.0    17\n",
       "Name: MC, dtype: int64"
      ]
     },
     "execution_count": 160,
     "metadata": {},
     "output_type": "execute_result"
    }
   ],
   "source": [
    "#ESERCIZIO 6: Quanti sono i cani deceduti per cause cardiache? Quanti per altre cause?\n",
    "cani_morti[\"MC\"].value_counts()"
   ]
  },
  {
   "cell_type": "code",
   "execution_count": 164,
   "metadata": {},
   "outputs": [
    {
     "name": "stdout",
     "output_type": "stream",
     "text": [
      "OndaEA >= s: 41\n",
      "OndaEA < s: 12\n"
     ]
    }
   ],
   "source": [
    "#ESERCIZIO 7: Quanti cani deceduti per cause cardiache avevano il valore di OndaEA >= s?\n",
    "#E quanti cani deceduti per cause non cardiache avevano il valore di OndaEA < s?\n",
    "print(\"OndaEA >= s:\",len(cani_morti.loc[(cani_morti.MC == 1) & (cani_morti.OndaEA >= s)]))\n",
    "print(\"OndaEA < s:\",len(cani_morti.loc[(cani_morti.MC == 0) & (cani_morti.OndaEA < s)]))"
   ]
  },
  {
   "cell_type": "code",
   "execution_count": 165,
   "metadata": {},
   "outputs": [],
   "source": [
    "#ESERCIZIO 8: "
   ]
  },
  {
   "cell_type": "code",
   "execution_count": null,
   "metadata": {},
   "outputs": [],
   "source": [
    "#ESERCIZIO 9:"
   ]
  }
 ],
 "metadata": {
  "kernelspec": {
   "display_name": "Python 3",
   "language": "python",
   "name": "python3"
  },
  "language_info": {
   "codemirror_mode": {
    "name": "ipython",
    "version": 3
   },
   "file_extension": ".py",
   "mimetype": "text/x-python",
   "name": "python",
   "nbconvert_exporter": "python",
   "pygments_lexer": "ipython3",
   "version": "3.7.6"
  }
 },
 "nbformat": 4,
 "nbformat_minor": 4
}
